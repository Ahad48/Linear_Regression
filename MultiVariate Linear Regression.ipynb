{
 "cells": [
  {
   "cell_type": "code",
   "execution_count": 14,
   "id": "d9e96f3b",
   "metadata": {},
   "outputs": [
    {
     "data": {
      "text/html": [
       "<style>.container { width:100% !important; }</style>"
      ],
      "text/plain": [
       "<IPython.core.display.HTML object>"
      ]
     },
     "metadata": {},
     "output_type": "display_data"
    }
   ],
   "source": [
    "import pandas as pd\n",
    "import numpy as np\n",
    "\n",
    "from IPython.display import display, HTML\n",
    "display(HTML(\"<style>.container { width:100% !important; }</style>\"))\n",
    "\n",
    "import matplotlib.pyplot as plt"
   ]
  },
  {
   "cell_type": "code",
   "execution_count": 101,
   "id": "b095e2c1",
   "metadata": {},
   "outputs": [
    {
     "name": "stdout",
     "output_type": "stream",
     "text": [
      "[-0.68931596 -0.76730171 -0.7518593 ]\n",
      "[0.7313124  0.74499404 0.73909969]\n",
      "[-0.01069751  0.00061867  0.01360504]\n"
     ]
    },
    {
     "data": {
      "image/png": "[encoded data removed]",
      "text/plain": [
       "<Figure size 432x288 with 1 Axes>"
      ]
     },
     "metadata": {
      "needs_background": "light"
     },
     "output_type": "display_data"
    }
   ],
   "source": [
    "# Creating our own data set\n",
    "mean = 0,\n",
    "std_dev = 0.25\n",
    "x = np.random.normal(mean, std_dev, size=(1000, 3))\n",
    "\n",
    "print(np.min(x, axis = 0))\n",
    "print(np.max(x, axis = 0))\n",
    "print(np.mean(x, axis = 0))\n",
    "\n",
    "plt.show()\n",
    "\n",
    "coeff = np.array([3,-4,2])\n",
    "\n",
    "x = x*coeff\n",
    "y = np.sum(x,axis = 1) + np.random.random((1000,))\n",
    "\n",
    "_ = plt.hist(x[:,0], bins = 100)\n",
    "_ = plt.hist(x[:,1], bins = 100)\n",
    "_ = plt.hist(x[:,2], bins = 100)\n",
    "# all three parameters follow a nomal distribution"
   ]
  },
  {
   "cell_type": "code",
   "execution_count": 102,
   "id": "a628ea57",
   "metadata": {},
   "outputs": [],
   "source": [
    "from sklearn.preprocessing import StandardScaler\n",
    "from sklearn.model_selection import train_test_split"
   ]
  },
  {
   "cell_type": "code",
   "execution_count": 103,
   "id": "119abb47",
   "metadata": {},
   "outputs": [],
   "source": [
    "sc = StandardScaler()\n",
    "X = sc.fit_transform(x)\n",
    "\n",
    "X_train, X_test, y_train, y_test = train_test_split(x,y, test_size=0.2)"
   ]
  },
  {
   "cell_type": "code",
   "execution_count": 104,
   "id": "e7e955d8",
   "metadata": {},
   "outputs": [
    {
     "data": {
      "text/plain": [
       "((800, 3), (200, 3), (800,), (200,))"
      ]
     },
     "execution_count": 104,
     "metadata": {},
     "output_type": "execute_result"
    }
   ],
   "source": [
    "X_train.shape, X_test.shape, y_train.shape, y_test.shape"
   ]
  },
  {
   "cell_type": "markdown",
   "id": "b17164c4",
   "metadata": {},
   "source": [
    "### For cost function derivation and gradient descent function\n",
    "\n",
    "http://mccormickml.com/2014/03/04/gradient-descent-derivation/"
   ]
  },
  {
   "cell_type": "code",
   "execution_count": 105,
   "id": "6244b517",
   "metadata": {},
   "outputs": [],
   "source": [
    "def cost_function(X, y, w, b):\n",
    "    \"\"\"\n",
    "    X: input features - independent variables\n",
    "    y: dependent variable\n",
    "    w: weights for the independent variable - coeffients\n",
    "    b: bias\n",
    "    \"\"\"\n",
    "    \n",
    "#     cost = np.divide(np.sum(np.power(np.subtract((X.dot(w) + b),y),2)), 2*y.shape[0])\n",
    "    cost = (((X.dot(w)+b)-y)**2).sum() / (2*y.shape[0]) # this has lower execution time\n",
    "    \n",
    "    return cost"
   ]
  },
  {
   "cell_type": "code",
   "execution_count": 137,
   "id": "13423eeb",
   "metadata": {},
   "outputs": [
    {
     "name": "stdout",
     "output_type": "stream",
     "text": [
      "15.7 µs ± 40.6 ns per loop (mean ± std. dev. of 7 runs, 100,000 loops each)\n"
     ]
    }
   ],
   "source": [
    "# %%timeit\n",
    "# np.divide(np.sum(np.power(np.subtract(x.dot(coeff),y),2)),(2*y.shape[0]))"
   ]
  },
  {
   "cell_type": "code",
   "execution_count": 138,
   "id": "14d106e4",
   "metadata": {},
   "outputs": [
    {
     "name": "stdout",
     "output_type": "stream",
     "text": [
      "5.94 µs ± 48.4 ns per loop (mean ± std. dev. of 7 runs, 100,000 loops each)\n"
     ]
    }
   ],
   "source": [
    "# %%timeit\n",
    "# (((x.dot(coeff))-y)**2).sum() / (2*y.shape[0])"
   ]
  },
  {
   "cell_type": "code",
   "execution_count": 139,
   "id": "8b89188d",
   "metadata": {},
   "outputs": [
    {
     "name": "stdout",
     "output_type": "stream",
     "text": [
      "13.602221341565794\n",
      "13.602221341565794\n"
     ]
    }
   ],
   "source": [
    "# print(np.divide(np.sum(np.power(np.subtract(x.dot(coeff),y),2)),(2*y.shape[0])))\n",
    "# print((((x.dot(coeff))-y)**2).sum() / (2*y.shape[0]))"
   ]
  },
  {
   "attachments": {},
   "cell_type": "markdown",
   "id": "dff623d6",
   "metadata": {},
   "source": [
    "### for graident descent:\n",
    "https://medium.com/ai-techsystems/gradient-descent-in-less-than-500-words-5f81d0e63b6a"
   ]
  },
  {
   "cell_type": "code",
   "execution_count": 109,
   "id": "bb98e46f",
   "metadata": {},
   "outputs": [],
   "source": [
    "def gradient_descent(X, y, alpha = 0.01, epochs = 1000):\n",
    "    \"\"\"\n",
    "    X: input features - independent variables\n",
    "    y: dependent variable\n",
    "    alpha: learning rate\n",
    "    epochs: number of iterations\n",
    "    \"\"\"\n",
    "    np.random.seed(0)\n",
    "    w = np.random.randn(X.shape[1])\n",
    "    print(w)\n",
    "    b = 0\n",
    "    \n",
    "    m = y.shape[0]\n",
    "    costs = [0]*epochs\n",
    "    \n",
    "    for epoch in range(epochs):\n",
    "#         print(\"epoch: \",epoch)\n",
    "        \n",
    "        h_theta = X.dot(w)+b\n",
    "        loss = h_theta - y\n",
    "\n",
    "        w = w - alpha * (X.T.dot(loss)/m)\n",
    "        b = b - alpha * (loss.sum()/m)\n",
    "        \n",
    "        cost = cost_function(X,y,w,b)\n",
    "        costs[epoch] = cost\n",
    "#         print(cost)\n",
    "        \n",
    "    return w, b, costs"
   ]
  },
  {
   "cell_type": "code",
   "execution_count": 110,
   "id": "24aded8f",
   "metadata": {},
   "outputs": [
    {
     "name": "stdout",
     "output_type": "stream",
     "text": [
      "[1.76405235 0.40015721 0.97873798]\n"
     ]
    }
   ],
   "source": [
    "w, b, costs = gradient_descent(X_train, y_train, alpha=0.001, epochs = 3000)"
   ]
  },
  {
   "cell_type": "code",
   "execution_count": 111,
   "id": "816df5c0",
   "metadata": {},
   "outputs": [
    {
     "data": {
      "image/png": "[encoded data removed]",
      "text/plain": [
       "<Figure size 432x288 with 1 Axes>"
      ]
     },
     "metadata": {
      "needs_background": "light"
     },
     "output_type": "display_data"
    }
   ],
   "source": [
    "plt.plot(costs)\n",
    "plt.show()"
   ]
  },
  {
   "cell_type": "code",
   "execution_count": 112,
   "id": "a415a47b",
   "metadata": {},
   "outputs": [],
   "source": [
    "def predict(X,w,b):\n",
    "    return X.dot(w)+b"
   ]
  },
  {
   "cell_type": "code",
   "execution_count": 113,
   "id": "7ca2f6e7",
   "metadata": {},
   "outputs": [],
   "source": [
    "y_pred = predict(X_test, w, b)"
   ]
  },
  {
   "cell_type": "code",
   "execution_count": 116,
   "id": "f1317f6d",
   "metadata": {},
   "outputs": [],
   "source": [
    "def r2(y_pred, y, k):\n",
    "\n",
    "    rss = ((y_pred - y) ** 2).sum()\n",
    "    tss = ((y-y.mean()) ** 2).sum()\n",
    "    \n",
    "    r2 = 1 - (rss / tss)\n",
    "    adj_r2 = 1 - (((1-r2)*(y.shape[0]-1))/(y.shape[0]-k-1))\n",
    "    return r2, adj_r2"
   ]
  },
  {
   "cell_type": "code",
   "execution_count": 118,
   "id": "4128bd15",
   "metadata": {},
   "outputs": [
    {
     "data": {
      "text/plain": [
       "(0.9521783899503815, 0.9514464265312547)"
      ]
     },
     "execution_count": 118,
     "metadata": {},
     "output_type": "execute_result"
    }
   ],
   "source": [
    "r2(y_pred, y_test, k = X_test.shape[1])"
   ]
  },
  {
   "cell_type": "code",
   "execution_count": 131,
   "id": "cc6844ae",
   "metadata": {},
   "outputs": [],
   "source": [
    "# Testing with sklearn library\n",
    "\n",
    "from sklearn.linear_model import LinearRegression\n",
    "from sklearn.metrics import r2_score"
   ]
  },
  {
   "cell_type": "code",
   "execution_count": 132,
   "id": "faa57a30",
   "metadata": {},
   "outputs": [
    {
     "data": {
      "text/plain": [
       "LinearRegression()"
      ]
     },
     "execution_count": 132,
     "metadata": {},
     "output_type": "execute_result"
    }
   ],
   "source": [
    "sk_model = LinearRegression().fit(X_train, y_train)\n",
    "\n",
    "sk_model"
   ]
  },
  {
   "cell_type": "code",
   "execution_count": 133,
   "id": "02e9c2fd",
   "metadata": {},
   "outputs": [
    {
     "data": {
      "text/plain": [
       "(array([0.99951478, 0.99414425, 1.01008479]), 0.49514161588216576)"
      ]
     },
     "execution_count": 133,
     "metadata": {},
     "output_type": "execute_result"
    }
   ],
   "source": [
    "sk_model.coef_, sk_model.intercept_"
   ]
  },
  {
   "cell_type": "code",
   "execution_count": 134,
   "id": "b46e29c8",
   "metadata": {},
   "outputs": [
    {
     "data": {
      "text/plain": [
       "(array([1.13572532, 0.9704475 , 1.0163618 ]), 0.47970063258534007)"
      ]
     },
     "execution_count": 134,
     "metadata": {},
     "output_type": "execute_result"
    }
   ],
   "source": [
    "w, b"
   ]
  },
  {
   "cell_type": "code",
   "execution_count": 135,
   "id": "c1de57b0",
   "metadata": {},
   "outputs": [],
   "source": [
    "y_pred_sk = sk_model.predict(X_test)"
   ]
  },
  {
   "cell_type": "code",
   "execution_count": 136,
   "id": "333e22a6",
   "metadata": {},
   "outputs": [
    {
     "data": {
      "text/plain": [
       "(0.9573021749993269, 0.9566486368615615)"
      ]
     },
     "execution_count": 136,
     "metadata": {},
     "output_type": "execute_result"
    }
   ],
   "source": [
    "r2(y_pred_sk, y_test, k = X_test.shape[1])"
   ]
  },
  {
   "cell_type": "markdown",
   "id": "d03f6bd4",
   "metadata": {},
   "source": [
    "### Referneces used:\n",
    "\n",
    "1. http://mccormickml.com/2014/03/04/gradient-descent-derivation/\n",
    "2. https://medium.com/ai-techsystems/gradient-descent-in-less-than-500-words-5f81d0e63b6a\n",
    "3. https://medium.com/analytics-vidhya/how-to-implement-multiple-linear-regression-from-scratch-c7ea23304540\n"
   ]
  },
  {
   "cell_type": "code",
   "execution_count": null,
   "id": "6d6a136e",
   "metadata": {},
   "outputs": [],
   "source": []
  }
 ],
 "metadata": {
  "kernelspec": {
   "display_name": "Python 3.9 (tensorflow)",
   "language": "python",
   "name": "tensorflow"
  },
  "language_info": {
   "codemirror_mode": {
    "name": "ipython",
    "version": 3
   },
   "file_extension": ".py",
   "mimetype": "text/x-python",
   "name": "python",
   "nbconvert_exporter": "python",
   "pygments_lexer": "ipython3",
   "version": "3.9.12"
  }
 },
 "nbformat": 4,
 "nbformat_minor": 5
}
